{
  "nbformat": 4,
  "nbformat_minor": 0,
  "metadata": {
    "colab": {
      "provenance": [],
      "machine_shape": "hm",
      "gpuType": "V28"
    },
    "kernelspec": {
      "name": "python3",
      "display_name": "Python 3"
    },
    "language_info": {
      "name": "python"
    },
    "accelerator": "TPU"
  },
  "cells": [
    {
      "cell_type": "code",
      "execution_count": 1,
      "metadata": {
        "colab": {
          "base_uri": "https://localhost:8080/"
        },
        "id": "tFNr_WHiNqtz",
        "outputId": "cc1e3d62-887f-4c3a-9c62-df603c178e81"
      },
      "outputs": [
        {
          "output_type": "stream",
          "name": "stdout",
          "text": [
            "CPU times: user 743 ms, sys: 182 ms, total: 925 ms\n",
            "Wall time: 3min 6s\n"
          ]
        }
      ],
      "source": [
        "%%time\n",
        "%%capture\n",
        "\n",
        "# clone the 'picodo' module\n",
        "! git clone https://github.com/martin-marek/picodo.git\n",
        "%cd /content/picodo\n",
        "\n",
        "# install dependencies\n",
        "! pip install wandb hydra-core\n",
        "\n",
        "# download dataset\n",
        "! wget -P /content https://pub-e8bbdcbe8f6243b2a9933704a9b1d8bc.r2.dev/datasets/fineweb_edu_gpt2_train.bin\n",
        "! wget -P /content https://pub-e8bbdcbe8f6243b2a9933704a9b1d8bc.r2.dev/datasets/fineweb_edu_gpt2_val.bin"
      ]
    },
    {
      "cell_type": "code",
      "source": [
        "# training: set config name (-cn) and any overrides\n",
        "! python main.py -cn colab opt.peak_lr=0.004"
      ],
      "metadata": {
        "colab": {
          "base_uri": "https://localhost:8080/"
        },
        "id": "6iy6yCgfO3Dl",
        "outputId": "5836093c-40ac-433b-834d-94823b188cb3"
      },
      "execution_count": 2,
      "outputs": [
        {
          "output_type": "stream",
          "name": "stdout",
          "text": [
            "n_params=124_141_056\n",
            "\u001b[34m\u001b[1mwandb\u001b[0m: (1) Create a W&B account\n",
            "\u001b[34m\u001b[1mwandb\u001b[0m: (2) Use an existing W&B account\n",
            "\u001b[34m\u001b[1mwandb\u001b[0m: (3) Don't visualize my results\n",
            "\u001b[34m\u001b[1mwandb\u001b[0m: Enter your choice: 2\n",
            "\u001b[34m\u001b[1mwandb\u001b[0m: You chose 'Use an existing W&B account'\n",
            "\u001b[34m\u001b[1mwandb\u001b[0m: Logging into wandb.ai. (Learn how to deploy a W&B server locally: https://wandb.me/wandb-server)\n",
            "\u001b[34m\u001b[1mwandb\u001b[0m: You can find your API key in your browser here: https://wandb.ai/authorize\n",
            "\u001b[34m\u001b[1mwandb\u001b[0m: Paste an API key from your profile and hit enter, or press ctrl+c to quit: \n",
            "\u001b[34m\u001b[1mwandb\u001b[0m: Appending key for api.wandb.ai to your netrc file: /root/.netrc\n",
            "\u001b[34m\u001b[1mwandb\u001b[0m: Using wandb-core as the SDK backend.  Please refer to https://wandb.me/wandb-core for more information.\n",
            "\u001b[34m\u001b[1mwandb\u001b[0m: Tracking run with wandb version 0.19.4\n",
            "\u001b[34m\u001b[1mwandb\u001b[0m: Run data is saved locally in \u001b[35m\u001b[1m/content/picodo/wandb/run-20250118_111425-bnowuvpe\u001b[0m\n",
            "\u001b[34m\u001b[1mwandb\u001b[0m: Run \u001b[1m`wandb offline`\u001b[0m to turn off syncing.\n",
            "\u001b[34m\u001b[1mwandb\u001b[0m: Syncing run \u001b[33mfast-meadow-5\u001b[0m\n",
            "\u001b[34m\u001b[1mwandb\u001b[0m: ⭐️ View project at \u001b[34m\u001b[4mhttps://wandb.ai/martin-marek/picodo\u001b[0m\n",
            "\u001b[34m\u001b[1mwandb\u001b[0m: 🚀 View run at \u001b[34m\u001b[4mhttps://wandb.ai/martin-marek/picodo/runs/bnowuvpe\u001b[0m\n",
            "100% 50632/50632 [5:19:20<00:00,  2.64it/s, loss=3.19]\n",
            "\u001b[1;34mwandb\u001b[0m: \n",
            "\u001b[1;34mwandb\u001b[0m: 🚀 View run \u001b[33mfast-meadow-5\u001b[0m at: \u001b[34mhttps://wandb.ai/martin-marek/picodo/runs/bnowuvpe\u001b[0m\n",
            "\u001b[1;34mwandb\u001b[0m: Find logs at: \u001b[1;35mwandb/run-20250118_111425-bnowuvpe/logs\u001b[0m\n"
          ]
        }
      ]
    },
    {
      "cell_type": "code",
      "source": [],
      "metadata": {
        "id": "N6nDzzCnRwHq"
      },
      "execution_count": null,
      "outputs": []
    }
  ]
}